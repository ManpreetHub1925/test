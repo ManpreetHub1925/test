{
 "cells": [
  {
   "cell_type": "code",
   "execution_count": 65,
   "id": "63c24c82",
   "metadata": {},
   "outputs": [],
   "source": [
    "import pandas as pd\n",
    "import pyodbc\n",
    "import warnings\n",
    "from tqdm import tqdm  # Import tqdm for progress bar\n",
    "\n",
    "# Ignore warnings\n",
    "warnings.filterwarnings(\"ignore\")\n",
    "\n",
    "# Define your database connection parameters\n",
    "server = '192.168.29.215,4133\\FELIX_HEALTHCARE'\n",
    "database = 'Felix_Healthcare'\n",
    "table_name = 'Pharmacy_IPD_P_Sales_137'  # Replace with your table name\n",
    "conn_str = f'DRIVER={{SQL Server}};SERVER={server};DATABASE={database};Trusted_Connection=yes'\n",
    "\n",
    "# Load data from the Excel file into a DataFrame\n",
    "excel_file = r'C:\\Users\\kumar\\Downloads\\Patientwise Sales (4).xlsx'\n",
    "df = pd.read_excel(excel_file)  # Replace 'Data' with your sheet name\n"
   ]
  },
  {
   "cell_type": "code",
   "execution_count": 66,
   "id": "a26306af",
   "metadata": {},
   "outputs": [],
   "source": [
    "# Convert specific columns to datetime and replace the null values\n",
    "\n",
    "df.iloc[:,0] = pd.to_datetime(df.iloc[:,0])\n",
    "df.iloc[:,19] = pd.to_datetime(df.iloc[:,19])\n",
    "df.fillna('-', inplace = True)"
   ]
  },
  {
   "cell_type": "code",
   "execution_count": 67,
   "id": "005886bb",
   "metadata": {},
   "outputs": [],
   "source": [
    "# Special characters to remove\n",
    "special_characters = [\"'\", \"`\", \"~\", \"#\", \"@\"]\n",
    "\n",
    "# Columns you want to clean\n",
    "columns_to_clean = list(range(1, 6)) + list(range(12, 18)) + [20]\n",
    "\n",
    "# Loop through selected columns and remove special characters\n",
    "for col in columns_to_clean:\n",
    "    for char in special_characters:\n",
    "        df.iloc[:, col] = df.iloc[:, col].str.replace(f'[{char}\\s]', '', regex=True)"
   ]
  },
  {
   "cell_type": "code",
   "execution_count": 68,
   "id": "6c264a62",
   "metadata": {},
   "outputs": [
    {
     "name": "stderr",
     "output_type": "stream",
     "text": [
      "100%|██████████████████████████████████████████████████████████████████████████| 46963/46963 [00:38<00:00, 1227.74it/s]"
     ]
    },
    {
     "name": "stdout",
     "output_type": "stream",
     "text": [
      "Data Updated\n"
     ]
    },
    {
     "name": "stderr",
     "output_type": "stream",
     "text": [
      "\n"
     ]
    }
   ],
   "source": [
    "# Create a connection to the SQL Server database\n",
    "conn = pyodbc.connect(conn_str)\n",
    "cursor = conn.cursor()\n",
    "\n",
    "# Insert data into the SQL Server table with a progress bar\n",
    "with tqdm(total=len(df)) as pbar:\n",
    "    for index, row in df.iterrows():\n",
    "        try:\n",
    "            # Build the SQL INSERT statement dynamically based on column names and values\n",
    "            columns = \"TXN_DATE, SR_NO, PATIENT_NAME, ITEM_NAME, EXPIRY, PACKING, BATCH, UNIT, QTY, AMOUNT, DISCOUNT, PURCHASE_AMT, TYPE, GENDER, MOBILE_PHONE_NO, PATIENT_CATEGORY, MRN, REFERRING_DOCTOR, CASHIER, UPDATED_TIME, REGISTRATION_NO\"  # Get all columns from the DataFrame\n",
    "            values = \", \".join([f\"'{value}'\" if pd.notna(value) else \"NULL\" for value in row])\n",
    "            sql_insert = f\"INSERT INTO {table_name} ({columns}) VALUES ({values})\"\n",
    "\n",
    "            # Execute the SQL statement\n",
    "            cursor.execute(sql_insert)\n",
    "            conn.commit()\n",
    "\n",
    "        except Exception as e:\n",
    "            print(f\"Error at row {index + 2}: {e}\")  # Adding 2 because the row index is 0-based\n",
    "            break  # Exit the loop on error\n",
    "\n",
    "        # Update the progress bar\n",
    "        pbar.update(1)\n",
    "\n",
    "# Close the database connection\n",
    "conn.close()\n",
    "\n",
    "print(\"Data Updated\")\n"
   ]
  },
  {
   "cell_type": "code",
   "execution_count": null,
   "id": "03ff2c21",
   "metadata": {},
   "outputs": [],
   "source": []
  },
  {
   "cell_type": "code",
   "execution_count": null,
   "id": "1718a97a",
   "metadata": {},
   "outputs": [],
   "source": []
  }
 ],
 "metadata": {
  "kernelspec": {
   "display_name": "Python 3 (ipykernel)",
   "language": "python",
   "name": "python3"
  },
  "language_info": {
   "codemirror_mode": {
    "name": "ipython",
    "version": 3
   },
   "file_extension": ".py",
   "mimetype": "text/x-python",
   "name": "python",
   "nbconvert_exporter": "python",
   "pygments_lexer": "ipython3",
   "version": "3.11.4"
  }
 },
 "nbformat": 4,
 "nbformat_minor": 5
}
